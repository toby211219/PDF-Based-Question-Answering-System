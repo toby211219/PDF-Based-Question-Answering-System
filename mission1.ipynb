{
  "nbformat": 4,
  "nbformat_minor": 0,
  "metadata": {
    "colab": {
      "provenance": []
    },
    "kernelspec": {
      "name": "python3",
      "display_name": "Python 3"
    },
    "language_info": {
      "name": "python"
    }
  },
  "cells": [
    {
      "cell_type": "code",
      "source": [
        "pip install PyPDF2"
      ],
      "metadata": {
        "colab": {
          "base_uri": "https://localhost:8080/"
        },
        "id": "pT2-i16p6uZv",
        "outputId": "c82fb4fc-7bca-40c6-b307-5dd9a4c17ac8"
      },
      "execution_count": 44,
      "outputs": [
        {
          "output_type": "stream",
          "name": "stdout",
          "text": [
            "Collecting PyPDF2\n",
            "  Downloading pypdf2-3.0.1-py3-none-any.whl.metadata (6.8 kB)\n",
            "Downloading pypdf2-3.0.1-py3-none-any.whl (232 kB)\n",
            "\u001b[?25l   \u001b[90m━━━━━━━━━━━━━━━━━━━━━━━━━━━━━━━━━━━━━━━━\u001b[0m \u001b[32m0.0/232.6 kB\u001b[0m \u001b[31m?\u001b[0m eta \u001b[36m-:--:--\u001b[0m\r\u001b[2K   \u001b[91m━━━━━━━━━━━━━━━━━━━━━━━━━━━━━\u001b[0m\u001b[91m╸\u001b[0m\u001b[90m━━━━━━━━━━\u001b[0m \u001b[32m174.1/232.6 kB\u001b[0m \u001b[31m5.3 MB/s\u001b[0m eta \u001b[36m0:00:01\u001b[0m\r\u001b[2K   \u001b[90m━━━━━━━━━━━━━━━━━━━━━━━━━━━━━━━━━━━━━━━━\u001b[0m \u001b[32m232.6/232.6 kB\u001b[0m \u001b[31m4.5 MB/s\u001b[0m eta \u001b[36m0:00:00\u001b[0m\n",
            "\u001b[?25hInstalling collected packages: PyPDF2\n",
            "Successfully installed PyPDF2-3.0.1\n"
          ]
        }
      ]
    },
    {
      "cell_type": "code",
      "source": [
        "import PyPDF2\n",
        "\n",
        "def extract_text_from_pdf(pdf_path):\n",
        "    \"\"\"\n",
        "    Extracts all text from the specified PDF file.\n",
        "\n",
        "    Args:\n",
        "        pdf_path (str): The path to the PDF file.\n",
        "\n",
        "    Returns:\n",
        "        str: All extracted text from the PDF, or None if an error occurs.\n",
        "    \"\"\"\n",
        "    try:\n",
        "        with open(pdf_path, 'rb') as file:\n",
        "            reader = PyPDF2.PdfReader(file)\n",
        "            text = \"\"\n",
        "            for page in reader.pages:\n",
        "                text += page.extract_text() + \"\\n\"  # Add newline between pages\n",
        "            return text\n",
        "    except Exception as e:\n",
        "        print(f\"Error reading PDF: {e}\")\n",
        "        return None\n",
        "\n",
        "# Example usage:\n",
        "# Assuming your PDF file is named \"your_document.pdf\" and is in the same directory as the code.\n",
        "# You need to replace this with your actual PDF file path.\n",
        "pdf_file_path = \"AI Team2 7.4報告.pdf\"\n",
        "full_pdf_text = extract_text_from_pdf(pdf_file_path)\n",
        "\n",
        "if full_pdf_text:\n",
        "    print(\"Successfully extracted text from PDF! First 500 characters:\")\n",
        "    print(full_pdf_text[:500])  # Print first 500 characters to check\n",
        "else:\n",
        "    print(\"Failed to extract text from PDF. Please check the file path or if the PDF is corrupted.\")"
      ],
      "metadata": {
        "colab": {
          "base_uri": "https://localhost:8080/"
        },
        "id": "oWgRXVni6vdO",
        "outputId": "46961724-7cdb-43b7-f731-d66d2a74bd40"
      },
      "execution_count": 47,
      "outputs": [
        {
          "output_type": "stream",
          "name": "stderr",
          "text": [
            "WARNING:PyPDF2.generic._base:FloatObject (b'0.00-20') invalid; use 0.0 instead\n",
            "WARNING:PyPDF2.generic._base:FloatObject (b'0.00-20') invalid; use 0.0 instead\n",
            "WARNING:PyPDF2.generic._base:FloatObject (b'0.00-20') invalid; use 0.0 instead\n",
            "WARNING:PyPDF2.generic._base:FloatObject (b'0.00-20') invalid; use 0.0 instead\n",
            "WARNING:PyPDF2.generic._base:FloatObject (b'0.00-20') invalid; use 0.0 instead\n",
            "WARNING:PyPDF2.generic._base:FloatObject (b'0.00-20') invalid; use 0.0 instead\n",
            "WARNING:PyPDF2.generic._base:FloatObject (b'0.00-20') invalid; use 0.0 instead\n",
            "WARNING:PyPDF2.generic._base:FloatObject (b'0.00-20') invalid; use 0.0 instead\n"
          ]
        },
        {
          "output_type": "stream",
          "name": "stdout",
          "text": [
            "Successfully extracted text from PDF! First 500 characters:\n",
            "AI Identiﬁcation of Chinese Medicine \n",
            "Members :  Hung Lung-Chen, Yu Pin-Yi, Hsieh Ching-Hung, Chen Kai-Jin Team2 Project : \n",
            "Introduction \n",
            "What is Chinese medicine? \n",
            "●Uses herbs  based on traditional Chinese medical \n",
            "theory. \n",
            "●Comes from  plants , animals , and minerals .\n",
            "●Primary purpose is disease prevention  and \n",
            "maintaining health .\n",
            "\n",
            "Introduction \n",
            "Our solution \n",
            "●Use AI to identify Chinese medicinal herbs accurately . \n",
            "Why are we doing this project? \n",
            "●Many types of Chinese medicinal herbs look\n"
          ]
        }
      ]
    }
  ]
}